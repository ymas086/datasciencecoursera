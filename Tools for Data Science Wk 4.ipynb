{
 "cells": [
  {
   "cell_type": "markdown",
   "metadata": {},
   "source": [
    "<center>\n",
    "    <img src=\"https://cf-courses-data.s3.us.cloud-object-storage.appdomain.cloud/IBMDeveloperSkillsNetwork-DS0105EN-SkillsNetwork/labs/Module2/images/SN_web_lightmode.png\" width=\"300\" alt=\"cognitiveclass.ai logo\"  />\n",
    "</center>\n"
   ]
  },
  {
   "cell_type": "markdown",
   "metadata": {},
   "source": [
    "# My Jupyter notebook on IBM Watson Studio"
   ]
  },
  {
   "cell_type": "markdown",
   "metadata": {},
   "source": [
    "**Yusuf Sheriff**\n",
    "\n",
    "Strategy and Research Professional"
   ]
  },
  {
   "cell_type": "markdown",
   "metadata": {},
   "source": [
    "*I am interested in data science because I love the process of discovering insights and believe this could help me excel in my professional career*"
   ]
  },
  {
   "cell_type": "markdown",
   "metadata": {},
   "source": [
    "### Code in cell 5 is supposed to print out the sum of 1 + 1"
   ]
  },
  {
   "cell_type": "code",
   "execution_count": 1,
   "metadata": {},
   "outputs": [
    {
     "name": "stdout",
     "output_type": "stream",
     "text": [
      "2\n"
     ]
    }
   ],
   "source": [
    "print(1+1)"
   ]
  },
  {
   "cell_type": "markdown",
   "metadata": {},
   "source": [
    "Using Markdown or HTML, this cell must include at least 3 of the following: \n",
    "---\n",
    "bulleted list\n",
    "* item 1\n",
    "* item 2\n",
    "---\n",
    "numbered list\n",
    "1. item 1\n",
    "2. item 2\n",
    "\n",
    "---\n",
    "tables\n",
    "|item|value|qty|\n",
    "|---|---|---|\n",
    "|pencils|$2.01|5|\n",
    "---\n",
    "hyperlinks\n",
    "\n",
    "[Math Stackexchange](https://math.stackexchange.com)\n",
    "\n",
    "---\n",
    "\n",
    "images\\\n",
    "![](https://static.wikia.nocookie.net/oriandtheblindforest/images/d/da/Ori_%28transparent%29.png)\n",
    "\n",
    "---\n",
    "\n",
    "\n",
    "code/syntax highlighting,  \n",
    "\n",
    "Inline code highlighting `print(\"Hello World\")` as an example\n",
    "\n",
    "```python\n",
    "print(\"Hello World\")\n",
    "console.log(\"something else\")\n",
    "```\n",
    "---\n",
    "\n",
    ">blocked quotes\n",
    ">this is a block quote\n",
    "---\n",
    "~~strikethrough~~"
   ]
  }
 ],
 "metadata": {
  "kernelspec": {
   "display_name": "Python",
   "language": "python",
   "name": "conda-env-python-py"
  },
  "language_info": {
   "codemirror_mode": {
    "name": "ipython",
    "version": 3
   },
   "file_extension": ".py",
   "mimetype": "text/x-python",
   "name": "python",
   "nbconvert_exporter": "python",
   "pygments_lexer": "ipython3",
   "version": "3.7.12"
  }
 },
 "nbformat": 4,
 "nbformat_minor": 4
}
